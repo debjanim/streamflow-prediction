{
  "cells": [
    {
      "cell_type": "markdown",
      "metadata": {
        "id": "view-in-github",
        "colab_type": "text"
      },
      "source": [
        "<a href=\"https://colab.research.google.com/github/debjanim/streamflow-prediction/blob/main/streamflow_rfr_205.ipynb\" target=\"_parent\"><img src=\"https://colab.research.google.com/assets/colab-badge.svg\" alt=\"Open In Colab\"/></a>"
      ]
    },
    {
      "cell_type": "markdown",
      "metadata": {
        "id": "3t8JpUfP4c6d"
      },
      "source": [
        "### A Random Forest Regressor Model\n",
        "##### The beginning of ML possibilities. \n",
        "### A sMAPE score of 0.4075870059426494\n"
      ]
    },
    {
      "cell_type": "code",
      "execution_count": null,
      "metadata": {
        "id": "6ZF_i9za4G4o"
      },
      "outputs": [],
      "source": [
        "# Import relevant libraries. \n",
        "import pandas as pd\n",
        "import numpy as np\n",
        "import matplotlib.pyplot as plt\n",
        "from sklearn import preprocessing\n",
        "import seaborn as sns"
      ]
    },
    {
      "cell_type": "code",
      "execution_count": null,
      "metadata": {
        "colab": {
          "base_uri": "https://localhost:8080/"
        },
        "id": "2IDICxj6526L",
        "outputId": "1069f407-7972-494e-87b3-165d99ae999f"
      },
      "outputs": [
        {
          "output_type": "stream",
          "name": "stdout",
          "text": [
            "Mounted at /content/drive\n"
          ]
        }
      ],
      "source": [
        "# Load Data from Google Drive\n",
        "from google.colab import drive\n",
        "drive.mount('/content/drive')"
      ]
    },
    {
      "cell_type": "code",
      "execution_count": null,
      "metadata": {
        "id": "Wwv1k8Cr6vWT"
      },
      "outputs": [],
      "source": [
        "# Copy the relevant .csv file to local drive. \n",
        "!cp /content/drive/MyDrive/EDAs/HYSETS_important.csv /content/"
      ]
    },
    {
      "cell_type": "code",
      "execution_count": null,
      "metadata": {
        "colab": {
          "base_uri": "https://localhost:8080/",
          "height": 204
        },
        "id": "CgAaz2b96vYp",
        "outputId": "bb70dfbe-f00b-49d3-a8fb-9294044ad672"
      },
      "outputs": [
        {
          "output_type": "execute_result",
          "data": {
            "text/plain": [
              "         time  watershed   pr  tasmax  tasmin  discharge\n",
              "0  1950-01-01          0  6.4   -27.2   -38.9        NaN\n",
              "1  1950-01-02          0  1.3   -27.8   -39.4        NaN\n",
              "2  1950-01-03          0  0.0   -15.6   -41.1        NaN\n",
              "3  1950-01-04          0  0.0   -15.0   -21.7        NaN\n",
              "4  1950-01-05          0  0.0   -12.2   -26.1        NaN"
            ],
            "text/html": [
              "\n",
              "  <div id=\"df-5db6e18f-7e51-4c5b-83ae-c2498bff8a34\">\n",
              "    <div class=\"colab-df-container\">\n",
              "      <div>\n",
              "<style scoped>\n",
              "    .dataframe tbody tr th:only-of-type {\n",
              "        vertical-align: middle;\n",
              "    }\n",
              "\n",
              "    .dataframe tbody tr th {\n",
              "        vertical-align: top;\n",
              "    }\n",
              "\n",
              "    .dataframe thead th {\n",
              "        text-align: right;\n",
              "    }\n",
              "</style>\n",
              "<table border=\"1\" class=\"dataframe\">\n",
              "  <thead>\n",
              "    <tr style=\"text-align: right;\">\n",
              "      <th></th>\n",
              "      <th>time</th>\n",
              "      <th>watershed</th>\n",
              "      <th>pr</th>\n",
              "      <th>tasmax</th>\n",
              "      <th>tasmin</th>\n",
              "      <th>discharge</th>\n",
              "    </tr>\n",
              "  </thead>\n",
              "  <tbody>\n",
              "    <tr>\n",
              "      <th>0</th>\n",
              "      <td>1950-01-01</td>\n",
              "      <td>0</td>\n",
              "      <td>6.4</td>\n",
              "      <td>-27.2</td>\n",
              "      <td>-38.9</td>\n",
              "      <td>NaN</td>\n",
              "    </tr>\n",
              "    <tr>\n",
              "      <th>1</th>\n",
              "      <td>1950-01-02</td>\n",
              "      <td>0</td>\n",
              "      <td>1.3</td>\n",
              "      <td>-27.8</td>\n",
              "      <td>-39.4</td>\n",
              "      <td>NaN</td>\n",
              "    </tr>\n",
              "    <tr>\n",
              "      <th>2</th>\n",
              "      <td>1950-01-03</td>\n",
              "      <td>0</td>\n",
              "      <td>0.0</td>\n",
              "      <td>-15.6</td>\n",
              "      <td>-41.1</td>\n",
              "      <td>NaN</td>\n",
              "    </tr>\n",
              "    <tr>\n",
              "      <th>3</th>\n",
              "      <td>1950-01-04</td>\n",
              "      <td>0</td>\n",
              "      <td>0.0</td>\n",
              "      <td>-15.0</td>\n",
              "      <td>-21.7</td>\n",
              "      <td>NaN</td>\n",
              "    </tr>\n",
              "    <tr>\n",
              "      <th>4</th>\n",
              "      <td>1950-01-05</td>\n",
              "      <td>0</td>\n",
              "      <td>0.0</td>\n",
              "      <td>-12.2</td>\n",
              "      <td>-26.1</td>\n",
              "      <td>NaN</td>\n",
              "    </tr>\n",
              "  </tbody>\n",
              "</table>\n",
              "</div>\n",
              "      <button class=\"colab-df-convert\" onclick=\"convertToInteractive('df-5db6e18f-7e51-4c5b-83ae-c2498bff8a34')\"\n",
              "              title=\"Convert this dataframe to an interactive table.\"\n",
              "              style=\"display:none;\">\n",
              "        \n",
              "  <svg xmlns=\"http://www.w3.org/2000/svg\" height=\"24px\"viewBox=\"0 0 24 24\"\n",
              "       width=\"24px\">\n",
              "    <path d=\"M0 0h24v24H0V0z\" fill=\"none\"/>\n",
              "    <path d=\"M18.56 5.44l.94 2.06.94-2.06 2.06-.94-2.06-.94-.94-2.06-.94 2.06-2.06.94zm-11 1L8.5 8.5l.94-2.06 2.06-.94-2.06-.94L8.5 2.5l-.94 2.06-2.06.94zm10 10l.94 2.06.94-2.06 2.06-.94-2.06-.94-.94-2.06-.94 2.06-2.06.94z\"/><path d=\"M17.41 7.96l-1.37-1.37c-.4-.4-.92-.59-1.43-.59-.52 0-1.04.2-1.43.59L10.3 9.45l-7.72 7.72c-.78.78-.78 2.05 0 2.83L4 21.41c.39.39.9.59 1.41.59.51 0 1.02-.2 1.41-.59l7.78-7.78 2.81-2.81c.8-.78.8-2.07 0-2.86zM5.41 20L4 18.59l7.72-7.72 1.47 1.35L5.41 20z\"/>\n",
              "  </svg>\n",
              "      </button>\n",
              "      \n",
              "  <style>\n",
              "    .colab-df-container {\n",
              "      display:flex;\n",
              "      flex-wrap:wrap;\n",
              "      gap: 12px;\n",
              "    }\n",
              "\n",
              "    .colab-df-convert {\n",
              "      background-color: #E8F0FE;\n",
              "      border: none;\n",
              "      border-radius: 50%;\n",
              "      cursor: pointer;\n",
              "      display: none;\n",
              "      fill: #1967D2;\n",
              "      height: 32px;\n",
              "      padding: 0 0 0 0;\n",
              "      width: 32px;\n",
              "    }\n",
              "\n",
              "    .colab-df-convert:hover {\n",
              "      background-color: #E2EBFA;\n",
              "      box-shadow: 0px 1px 2px rgba(60, 64, 67, 0.3), 0px 1px 3px 1px rgba(60, 64, 67, 0.15);\n",
              "      fill: #174EA6;\n",
              "    }\n",
              "\n",
              "    [theme=dark] .colab-df-convert {\n",
              "      background-color: #3B4455;\n",
              "      fill: #D2E3FC;\n",
              "    }\n",
              "\n",
              "    [theme=dark] .colab-df-convert:hover {\n",
              "      background-color: #434B5C;\n",
              "      box-shadow: 0px 1px 3px 1px rgba(0, 0, 0, 0.15);\n",
              "      filter: drop-shadow(0px 1px 2px rgba(0, 0, 0, 0.3));\n",
              "      fill: #FFFFFF;\n",
              "    }\n",
              "  </style>\n",
              "\n",
              "      <script>\n",
              "        const buttonEl =\n",
              "          document.querySelector('#df-5db6e18f-7e51-4c5b-83ae-c2498bff8a34 button.colab-df-convert');\n",
              "        buttonEl.style.display =\n",
              "          google.colab.kernel.accessAllowed ? 'block' : 'none';\n",
              "\n",
              "        async function convertToInteractive(key) {\n",
              "          const element = document.querySelector('#df-5db6e18f-7e51-4c5b-83ae-c2498bff8a34');\n",
              "          const dataTable =\n",
              "            await google.colab.kernel.invokeFunction('convertToInteractive',\n",
              "                                                     [key], {});\n",
              "          if (!dataTable) return;\n",
              "\n",
              "          const docLinkHtml = 'Like what you see? Visit the ' +\n",
              "            '<a target=\"_blank\" href=https://colab.research.google.com/notebooks/data_table.ipynb>data table notebook</a>'\n",
              "            + ' to learn more about interactive tables.';\n",
              "          element.innerHTML = '';\n",
              "          dataTable['output_type'] = 'display_data';\n",
              "          await google.colab.output.renderOutput(dataTable, element);\n",
              "          const docLink = document.createElement('div');\n",
              "          docLink.innerHTML = docLinkHtml;\n",
              "          element.appendChild(docLink);\n",
              "        }\n",
              "      </script>\n",
              "    </div>\n",
              "  </div>\n",
              "  "
            ]
          },
          "metadata": {},
          "execution_count": 5
        }
      ],
      "source": [
        "# Load the dataframe\n",
        "df = pd.read_csv('HYSETS_important.csv')\n",
        "df.head()"
      ]
    },
    {
      "cell_type": "code",
      "execution_count": null,
      "metadata": {
        "colab": {
          "base_uri": "https://localhost:8080/"
        },
        "id": "varT-uvt6vbg",
        "outputId": "45f0bf4a-26b7-451c-8ac8-c91bcd8a1acc"
      },
      "outputs": [
        {
          "output_type": "execute_result",
          "data": {
            "text/plain": [
              "(1741, 205)"
            ]
          },
          "metadata": {},
          "execution_count": 6
        }
      ],
      "source": [
        "# Watershed's 175 and 8 have the fewest missing discharge values. \n",
        "# Now to explore another watershed. \n",
        "mean = df.watershed.unique()\n",
        "missing = {}\n",
        "for i in mean: \n",
        "  shed = df[(df.watershed == i)]\n",
        "  nums = shed.discharge.isnull().sum()\n",
        "  missing[nums] = i\n",
        "# What is the third most populous discharge value'd watershed?\n",
        "sorted(missing.items())[2] "
      ]
    },
    {
      "cell_type": "code",
      "execution_count": null,
      "metadata": {
        "id": "-KTekccj6vd2",
        "colab": {
          "base_uri": "https://localhost:8080/"
        },
        "outputId": "fd93311e-8bc5-493f-8835-d81c2bf7e3a1"
      },
      "outputs": [
        {
          "output_type": "stream",
          "name": "stderr",
          "text": [
            "/usr/local/lib/python3.7/dist-packages/ipykernel_launcher.py:4: SettingWithCopyWarning: \n",
            "A value is trying to be set on a copy of a slice from a DataFrame.\n",
            "Try using .loc[row_indexer,col_indexer] = value instead\n",
            "\n",
            "See the caveats in the documentation: https://pandas.pydata.org/pandas-docs/stable/user_guide/indexing.html#returning-a-view-versus-a-copy\n",
            "  after removing the cwd from sys.path.\n"
          ]
        }
      ],
      "source": [
        "# Isolating a single watershed, since all data that changes between watersheds has been removed. \n",
        "shed205 = df[(df.watershed == 205)]\n",
        "# Switching the 'time' column to the datetime format.\n",
        "shed205[\"time\"] = pd.to_datetime(shed205[\"time\"])"
      ]
    },
    {
      "cell_type": "code",
      "execution_count": null,
      "metadata": {
        "colab": {
          "base_uri": "https://localhost:8080/",
          "height": 603
        },
        "id": "z4MRkQPFDYEA",
        "outputId": "65b17982-ec50-41a9-9913-261b2b48f658"
      },
      "outputs": [
        {
          "output_type": "display_data",
          "data": {
            "text/plain": [
              "<Figure size 2160x720 with 1 Axes>"
            ],
            "image/png": "[encoded data removed]"
          },
          "metadata": {
            "needs_background": "light"
          }
        }
      ],
      "source": [
        "# For visual representation, plotting discharge of watershed 205\n",
        "\n",
        "x = range(len(shed205))\n",
        "y1 = shed205.discharge\n",
        "\n",
        "f = plt.figure()\n",
        "f.set_figwidth(30)\n",
        "f.set_figheight(10)\n",
        "plt.title(\"Watershed 205\")\n",
        "plt.xlabel(\"Time Steps (days)\") # A track varies in timing, but averages to every 3 days.\n",
        "plt.ylabel(\"Discharge Level (meters)\")\n",
        "plt.plot(y1, label = 'Discharge')\n",
        "\n",
        "\n",
        "\n",
        "\n",
        "plt.legend()\n",
        "plt.show()"
      ]
    },
    {
      "cell_type": "code",
      "source": [
        "# There appears to be a gulf of discharge values right at the end. (Perhaps this watershed's sensor turned off earlier.)\n",
        "test = shed205.copy()\n",
        "test.dropna()"
      ],
      "metadata": {
        "colab": {
          "base_uri": "https://localhost:8080/",
          "height": 419
        },
        "id": "wLkcECcinEau",
        "outputId": "b75b3141-e69d-461b-ccc6-aa0e9b512766"
      },
      "execution_count": null,
      "outputs": [
        {
          "output_type": "execute_result",
          "data": {
            "text/plain": [
              "              time  watershed        pr     tasmax     tasmin  discharge\n",
              "5166522 1950-04-23        205  0.074635   5.912317  -2.073695       6.85\n",
              "5166523 1950-04-24        205  0.000000   3.652505  -3.025574       6.12\n",
              "5166524 1950-04-25        205  0.000000   2.082985  -4.673486       6.29\n",
              "5166525 1950-04-26        205  0.000000   1.490501  -5.531106       6.40\n",
              "5166526 1950-04-27        205  0.000000   5.080793  -6.700000       4.76\n",
              "...            ...        ...       ...        ...        ...        ...\n",
              "5190877 2016-12-27        205  1.170564 -10.097390 -22.942066       2.64\n",
              "5190878 2016-12-28        205  0.929019  -3.541023 -14.312735       2.65\n",
              "5190879 2016-12-29        205  0.000000  -6.199687 -16.686535       2.61\n",
              "5190880 2016-12-30        205  0.926618 -10.480793 -16.324427       2.52\n",
              "5190881 2016-12-31        205  0.000000  -7.759708 -13.571190       2.57\n",
              "\n",
              "[23461 rows x 6 columns]"
            ],
            "text/html": [
              "\n",
              "  <div id=\"df-feb3560a-3cab-417a-ad43-959f962071c5\">\n",
              "    <div class=\"colab-df-container\">\n",
              "      <div>\n",
              "<style scoped>\n",
              "    .dataframe tbody tr th:only-of-type {\n",
              "        vertical-align: middle;\n",
              "    }\n",
              "\n",
              "    .dataframe tbody tr th {\n",
              "        vertical-align: top;\n",
              "    }\n",
              "\n",
              "    .dataframe thead th {\n",
              "        text-align: right;\n",
              "    }\n",
              "</style>\n",
              "<table border=\"1\" class=\"dataframe\">\n",
              "  <thead>\n",
              "    <tr style=\"text-align: right;\">\n",
              "      <th></th>\n",
              "      <th>time</th>\n",
              "      <th>watershed</th>\n",
              "      <th>pr</th>\n",
              "      <th>tasmax</th>\n",
              "      <th>tasmin</th>\n",
              "      <th>discharge</th>\n",
              "    </tr>\n",
              "  </thead>\n",
              "  <tbody>\n",
              "    <tr>\n",
              "      <th>5166522</th>\n",
              "      <td>1950-04-23</td>\n",
              "      <td>205</td>\n",
              "      <td>0.074635</td>\n",
              "      <td>5.912317</td>\n",
              "      <td>-2.073695</td>\n",
              "      <td>6.85</td>\n",
              "    </tr>\n",
              "    <tr>\n",
              "      <th>5166523</th>\n",
              "      <td>1950-04-24</td>\n",
              "      <td>205</td>\n",
              "      <td>0.000000</td>\n",
              "      <td>3.652505</td>\n",
              "      <td>-3.025574</td>\n",
              "      <td>6.12</td>\n",
              "    </tr>\n",
              "    <tr>\n",
              "      <th>5166524</th>\n",
              "      <td>1950-04-25</td>\n",
              "      <td>205</td>\n",
              "      <td>0.000000</td>\n",
              "      <td>2.082985</td>\n",
              "      <td>-4.673486</td>\n",
              "      <td>6.29</td>\n",
              "    </tr>\n",
              "    <tr>\n",
              "      <th>5166525</th>\n",
              "      <td>1950-04-26</td>\n",
              "      <td>205</td>\n",
              "      <td>0.000000</td>\n",
              "      <td>1.490501</td>\n",
              "      <td>-5.531106</td>\n",
              "      <td>6.40</td>\n",
              "    </tr>\n",
              "    <tr>\n",
              "      <th>5166526</th>\n",
              "      <td>1950-04-27</td>\n",
              "      <td>205</td>\n",
              "      <td>0.000000</td>\n",
              "      <td>5.080793</td>\n",
              "      <td>-6.700000</td>\n",
              "      <td>4.76</td>\n",
              "    </tr>\n",
              "    <tr>\n",
              "      <th>...</th>\n",
              "      <td>...</td>\n",
              "      <td>...</td>\n",
              "      <td>...</td>\n",
              "      <td>...</td>\n",
              "      <td>...</td>\n",
              "      <td>...</td>\n",
              "    </tr>\n",
              "    <tr>\n",
              "      <th>5190877</th>\n",
              "      <td>2016-12-27</td>\n",
              "      <td>205</td>\n",
              "      <td>1.170564</td>\n",
              "      <td>-10.097390</td>\n",
              "      <td>-22.942066</td>\n",
              "      <td>2.64</td>\n",
              "    </tr>\n",
              "    <tr>\n",
              "      <th>5190878</th>\n",
              "      <td>2016-12-28</td>\n",
              "      <td>205</td>\n",
              "      <td>0.929019</td>\n",
              "      <td>-3.541023</td>\n",
              "      <td>-14.312735</td>\n",
              "      <td>2.65</td>\n",
              "    </tr>\n",
              "    <tr>\n",
              "      <th>5190879</th>\n",
              "      <td>2016-12-29</td>\n",
              "      <td>205</td>\n",
              "      <td>0.000000</td>\n",
              "      <td>-6.199687</td>\n",
              "      <td>-16.686535</td>\n",
              "      <td>2.61</td>\n",
              "    </tr>\n",
              "    <tr>\n",
              "      <th>5190880</th>\n",
              "      <td>2016-12-30</td>\n",
              "      <td>205</td>\n",
              "      <td>0.926618</td>\n",
              "      <td>-10.480793</td>\n",
              "      <td>-16.324427</td>\n",
              "      <td>2.52</td>\n",
              "    </tr>\n",
              "    <tr>\n",
              "      <th>5190881</th>\n",
              "      <td>2016-12-31</td>\n",
              "      <td>205</td>\n",
              "      <td>0.000000</td>\n",
              "      <td>-7.759708</td>\n",
              "      <td>-13.571190</td>\n",
              "      <td>2.57</td>\n",
              "    </tr>\n",
              "  </tbody>\n",
              "</table>\n",
              "<p>23461 rows × 6 columns</p>\n",
              "</div>\n",
              "      <button class=\"colab-df-convert\" onclick=\"convertToInteractive('df-feb3560a-3cab-417a-ad43-959f962071c5')\"\n",
              "              title=\"Convert this dataframe to an interactive table.\"\n",
              "              style=\"display:none;\">\n",
              "        \n",
              "  <svg xmlns=\"http://www.w3.org/2000/svg\" height=\"24px\"viewBox=\"0 0 24 24\"\n",
              "       width=\"24px\">\n",
              "    <path d=\"M0 0h24v24H0V0z\" fill=\"none\"/>\n",
              "    <path d=\"M18.56 5.44l.94 2.06.94-2.06 2.06-.94-2.06-.94-.94-2.06-.94 2.06-2.06.94zm-11 1L8.5 8.5l.94-2.06 2.06-.94-2.06-.94L8.5 2.5l-.94 2.06-2.06.94zm10 10l.94 2.06.94-2.06 2.06-.94-2.06-.94-.94-2.06-.94 2.06-2.06.94z\"/><path d=\"M17.41 7.96l-1.37-1.37c-.4-.4-.92-.59-1.43-.59-.52 0-1.04.2-1.43.59L10.3 9.45l-7.72 7.72c-.78.78-.78 2.05 0 2.83L4 21.41c.39.39.9.59 1.41.59.51 0 1.02-.2 1.41-.59l7.78-7.78 2.81-2.81c.8-.78.8-2.07 0-2.86zM5.41 20L4 18.59l7.72-7.72 1.47 1.35L5.41 20z\"/>\n",
              "  </svg>\n",
              "      </button>\n",
              "      \n",
              "  <style>\n",
              "    .colab-df-container {\n",
              "      display:flex;\n",
              "      flex-wrap:wrap;\n",
              "      gap: 12px;\n",
              "    }\n",
              "\n",
              "    .colab-df-convert {\n",
              "      background-color: #E8F0FE;\n",
              "      border: none;\n",
              "      border-radius: 50%;\n",
              "      cursor: pointer;\n",
              "      display: none;\n",
              "      fill: #1967D2;\n",
              "      height: 32px;\n",
              "      padding: 0 0 0 0;\n",
              "      width: 32px;\n",
              "    }\n",
              "\n",
              "    .colab-df-convert:hover {\n",
              "      background-color: #E2EBFA;\n",
              "      box-shadow: 0px 1px 2px rgba(60, 64, 67, 0.3), 0px 1px 3px 1px rgba(60, 64, 67, 0.15);\n",
              "      fill: #174EA6;\n",
              "    }\n",
              "\n",
              "    [theme=dark] .colab-df-convert {\n",
              "      background-color: #3B4455;\n",
              "      fill: #D2E3FC;\n",
              "    }\n",
              "\n",
              "    [theme=dark] .colab-df-convert:hover {\n",
              "      background-color: #434B5C;\n",
              "      box-shadow: 0px 1px 3px 1px rgba(0, 0, 0, 0.15);\n",
              "      filter: drop-shadow(0px 1px 2px rgba(0, 0, 0, 0.3));\n",
              "      fill: #FFFFFF;\n",
              "    }\n",
              "  </style>\n",
              "\n",
              "      <script>\n",
              "        const buttonEl =\n",
              "          document.querySelector('#df-feb3560a-3cab-417a-ad43-959f962071c5 button.colab-df-convert');\n",
              "        buttonEl.style.display =\n",
              "          google.colab.kernel.accessAllowed ? 'block' : 'none';\n",
              "\n",
              "        async function convertToInteractive(key) {\n",
              "          const element = document.querySelector('#df-feb3560a-3cab-417a-ad43-959f962071c5');\n",
              "          const dataTable =\n",
              "            await google.colab.kernel.invokeFunction('convertToInteractive',\n",
              "                                                     [key], {});\n",
              "          if (!dataTable) return;\n",
              "\n",
              "          const docLinkHtml = 'Like what you see? Visit the ' +\n",
              "            '<a target=\"_blank\" href=https://colab.research.google.com/notebooks/data_table.ipynb>data table notebook</a>'\n",
              "            + ' to learn more about interactive tables.';\n",
              "          element.innerHTML = '';\n",
              "          dataTable['output_type'] = 'display_data';\n",
              "          await google.colab.output.renderOutput(dataTable, element);\n",
              "          const docLink = document.createElement('div');\n",
              "          docLink.innerHTML = docLinkHtml;\n",
              "          element.appendChild(docLink);\n",
              "        }\n",
              "      </script>\n",
              "    </div>\n",
              "  </div>\n",
              "  "
            ]
          },
          "metadata": {},
          "execution_count": 9
        }
      ]
    },
    {
      "cell_type": "code",
      "source": [
        "# It appears watershed 8's discharge measurements ended 2016, instead of 2018 like watershed 175. \n",
        "shed205 = shed205[(shed205.time < '2017-01-01')]"
      ],
      "metadata": {
        "id": "f1hQXP5rnEdU"
      },
      "execution_count": null,
      "outputs": []
    },
    {
      "cell_type": "code",
      "source": [
        "# Using Pandas built in function 'interpolate', nan values will be filled in. \n",
        "shed205.set_index('time', inplace = True)\n",
        "for watershedID in set(shed205[\"watershed\"]):\n",
        "  shed205[shed205[\"watershed\"] == watershedID] = shed205[shed205[\"watershed\"] == watershedID].interpolate(method='time', axis=0, limit_direction=\"both\")"
      ],
      "metadata": {
        "id": "QHTkfP3CnEf8"
      },
      "execution_count": null,
      "outputs": []
    },
    {
      "cell_type": "code",
      "source": [
        "# Observe how many nan's remain after interpolation. \n",
        "shed205.isnull().sum()"
      ],
      "metadata": {
        "colab": {
          "base_uri": "https://localhost:8080/"
        },
        "id": "TrKoPIlJnOOw",
        "outputId": "8468abe7-f2c4-433b-de63-a37153632537"
      },
      "execution_count": null,
      "outputs": [
        {
          "output_type": "execute_result",
          "data": {
            "text/plain": [
              "watershed    0\n",
              "pr           0\n",
              "tasmax       0\n",
              "tasmin       0\n",
              "discharge    0\n",
              "dtype: int64"
            ]
          },
          "metadata": {},
          "execution_count": 12
        }
      ]
    },
    {
      "cell_type": "code",
      "source": [
        "# For experimentation, using a copy saves reloading time. \n",
        "model1 = shed205.copy()"
      ],
      "metadata": {
        "id": "FrxpU8mknORY"
      },
      "execution_count": null,
      "outputs": []
    },
    {
      "cell_type": "code",
      "source": [
        "# Setting the index back to 1, 2, 3, ...\n",
        "model1.reset_index(inplace=True) \n",
        "model1.head()"
      ],
      "metadata": {
        "colab": {
          "base_uri": "https://localhost:8080/",
          "height": 204
        },
        "id": "DOoWFseLnOUN",
        "outputId": "21b1cfc9-9f6f-4dbd-be0d-34fcb529f652"
      },
      "execution_count": null,
      "outputs": [
        {
          "output_type": "execute_result",
          "data": {
            "text/plain": [
              "        time  watershed        pr     tasmax     tasmin  discharge\n",
              "0 1950-01-01        205  0.819415 -19.975365 -29.133820       6.85\n",
              "1 1950-01-02        205  0.000000 -24.203758 -27.345928       6.85\n",
              "2 1950-01-03        205  0.000000 -29.017746 -36.503757       6.85\n",
              "3 1950-01-04        205  0.000000 -26.956785 -40.761795       6.85\n",
              "4 1950-01-05        205  0.000000 -30.449478 -39.001670       6.85"
            ],
            "text/html": [
              "\n",
              "  <div id=\"df-a1efec58-2ca0-412f-b2e4-cf3aa68cf207\">\n",
              "    <div class=\"colab-df-container\">\n",
              "      <div>\n",
              "<style scoped>\n",
              "    .dataframe tbody tr th:only-of-type {\n",
              "        vertical-align: middle;\n",
              "    }\n",
              "\n",
              "    .dataframe tbody tr th {\n",
              "        vertical-align: top;\n",
              "    }\n",
              "\n",
              "    .dataframe thead th {\n",
              "        text-align: right;\n",
              "    }\n",
              "</style>\n",
              "<table border=\"1\" class=\"dataframe\">\n",
              "  <thead>\n",
              "    <tr style=\"text-align: right;\">\n",
              "      <th></th>\n",
              "      <th>time</th>\n",
              "      <th>watershed</th>\n",
              "      <th>pr</th>\n",
              "      <th>tasmax</th>\n",
              "      <th>tasmin</th>\n",
              "      <th>discharge</th>\n",
              "    </tr>\n",
              "  </thead>\n",
              "  <tbody>\n",
              "    <tr>\n",
              "      <th>0</th>\n",
              "      <td>1950-01-01</td>\n",
              "      <td>205</td>\n",
              "      <td>0.819415</td>\n",
              "      <td>-19.975365</td>\n",
              "      <td>-29.133820</td>\n",
              "      <td>6.85</td>\n",
              "    </tr>\n",
              "    <tr>\n",
              "      <th>1</th>\n",
              "      <td>1950-01-02</td>\n",
              "      <td>205</td>\n",
              "      <td>0.000000</td>\n",
              "      <td>-24.203758</td>\n",
              "      <td>-27.345928</td>\n",
              "      <td>6.85</td>\n",
              "    </tr>\n",
              "    <tr>\n",
              "      <th>2</th>\n",
              "      <td>1950-01-03</td>\n",
              "      <td>205</td>\n",
              "      <td>0.000000</td>\n",
              "      <td>-29.017746</td>\n",
              "      <td>-36.503757</td>\n",
              "      <td>6.85</td>\n",
              "    </tr>\n",
              "    <tr>\n",
              "      <th>3</th>\n",
              "      <td>1950-01-04</td>\n",
              "      <td>205</td>\n",
              "      <td>0.000000</td>\n",
              "      <td>-26.956785</td>\n",
              "      <td>-40.761795</td>\n",
              "      <td>6.85</td>\n",
              "    </tr>\n",
              "    <tr>\n",
              "      <th>4</th>\n",
              "      <td>1950-01-05</td>\n",
              "      <td>205</td>\n",
              "      <td>0.000000</td>\n",
              "      <td>-30.449478</td>\n",
              "      <td>-39.001670</td>\n",
              "      <td>6.85</td>\n",
              "    </tr>\n",
              "  </tbody>\n",
              "</table>\n",
              "</div>\n",
              "      <button class=\"colab-df-convert\" onclick=\"convertToInteractive('df-a1efec58-2ca0-412f-b2e4-cf3aa68cf207')\"\n",
              "              title=\"Convert this dataframe to an interactive table.\"\n",
              "              style=\"display:none;\">\n",
              "        \n",
              "  <svg xmlns=\"http://www.w3.org/2000/svg\" height=\"24px\"viewBox=\"0 0 24 24\"\n",
              "       width=\"24px\">\n",
              "    <path d=\"M0 0h24v24H0V0z\" fill=\"none\"/>\n",
              "    <path d=\"M18.56 5.44l.94 2.06.94-2.06 2.06-.94-2.06-.94-.94-2.06-.94 2.06-2.06.94zm-11 1L8.5 8.5l.94-2.06 2.06-.94-2.06-.94L8.5 2.5l-.94 2.06-2.06.94zm10 10l.94 2.06.94-2.06 2.06-.94-2.06-.94-.94-2.06-.94 2.06-2.06.94z\"/><path d=\"M17.41 7.96l-1.37-1.37c-.4-.4-.92-.59-1.43-.59-.52 0-1.04.2-1.43.59L10.3 9.45l-7.72 7.72c-.78.78-.78 2.05 0 2.83L4 21.41c.39.39.9.59 1.41.59.51 0 1.02-.2 1.41-.59l7.78-7.78 2.81-2.81c.8-.78.8-2.07 0-2.86zM5.41 20L4 18.59l7.72-7.72 1.47 1.35L5.41 20z\"/>\n",
              "  </svg>\n",
              "      </button>\n",
              "      \n",
              "  <style>\n",
              "    .colab-df-container {\n",
              "      display:flex;\n",
              "      flex-wrap:wrap;\n",
              "      gap: 12px;\n",
              "    }\n",
              "\n",
              "    .colab-df-convert {\n",
              "      background-color: #E8F0FE;\n",
              "      border: none;\n",
              "      border-radius: 50%;\n",
              "      cursor: pointer;\n",
              "      display: none;\n",
              "      fill: #1967D2;\n",
              "      height: 32px;\n",
              "      padding: 0 0 0 0;\n",
              "      width: 32px;\n",
              "    }\n",
              "\n",
              "    .colab-df-convert:hover {\n",
              "      background-color: #E2EBFA;\n",
              "      box-shadow: 0px 1px 2px rgba(60, 64, 67, 0.3), 0px 1px 3px 1px rgba(60, 64, 67, 0.15);\n",
              "      fill: #174EA6;\n",
              "    }\n",
              "\n",
              "    [theme=dark] .colab-df-convert {\n",
              "      background-color: #3B4455;\n",
              "      fill: #D2E3FC;\n",
              "    }\n",
              "\n",
              "    [theme=dark] .colab-df-convert:hover {\n",
              "      background-color: #434B5C;\n",
              "      box-shadow: 0px 1px 3px 1px rgba(0, 0, 0, 0.15);\n",
              "      filter: drop-shadow(0px 1px 2px rgba(0, 0, 0, 0.3));\n",
              "      fill: #FFFFFF;\n",
              "    }\n",
              "  </style>\n",
              "\n",
              "      <script>\n",
              "        const buttonEl =\n",
              "          document.querySelector('#df-a1efec58-2ca0-412f-b2e4-cf3aa68cf207 button.colab-df-convert');\n",
              "        buttonEl.style.display =\n",
              "          google.colab.kernel.accessAllowed ? 'block' : 'none';\n",
              "\n",
              "        async function convertToInteractive(key) {\n",
              "          const element = document.querySelector('#df-a1efec58-2ca0-412f-b2e4-cf3aa68cf207');\n",
              "          const dataTable =\n",
              "            await google.colab.kernel.invokeFunction('convertToInteractive',\n",
              "                                                     [key], {});\n",
              "          if (!dataTable) return;\n",
              "\n",
              "          const docLinkHtml = 'Like what you see? Visit the ' +\n",
              "            '<a target=\"_blank\" href=https://colab.research.google.com/notebooks/data_table.ipynb>data table notebook</a>'\n",
              "            + ' to learn more about interactive tables.';\n",
              "          element.innerHTML = '';\n",
              "          dataTable['output_type'] = 'display_data';\n",
              "          await google.colab.output.renderOutput(dataTable, element);\n",
              "          const docLink = document.createElement('div');\n",
              "          docLink.innerHTML = docLinkHtml;\n",
              "          element.appendChild(docLink);\n",
              "        }\n",
              "      </script>\n",
              "    </div>\n",
              "  </div>\n",
              "  "
            ]
          },
          "metadata": {},
          "execution_count": 14
        }
      ]
    },
    {
      "cell_type": "code",
      "source": [
        "# Herein we will create a function that creates represenations of the past days. \n",
        "# And A fortnight is the target variable. --> This can be changed to 10 days out, instead of 14. \n",
        "\n",
        "def advance(x):\n",
        "  num_list = []\n",
        "  length = len(model1.discharge)\n",
        "  for i in range(length):\n",
        "    if x + i >= length: # For calculating the target variable\n",
        "      num = i\n",
        "    elif i + x < 0: # For calculating the past. \n",
        "      num = i\n",
        "    else:\n",
        "      num = i + x # Other than the outliers, the value will be discharge[i + 'x']\n",
        "    forecast = model1['discharge'][num]\n",
        "    num_list.append(forecast)\n",
        "  name = f\"discharge_{x}\"    \n",
        "  model1[name] = num_list #model1['discharge'][num]\n"
      ],
      "metadata": {
        "id": "y_TZ38YsnOXv"
      },
      "execution_count": null,
      "outputs": []
    },
    {
      "cell_type": "code",
      "source": [
        "# Yesterday's forecast. \n",
        "advance(-1)"
      ],
      "metadata": {
        "id": "xvMSx23DnOad"
      },
      "execution_count": null,
      "outputs": []
    },
    {
      "cell_type": "code",
      "source": [
        "# Three days ago.\n",
        "advance(-3)"
      ],
      "metadata": {
        "id": "L1gUVcuAneA7"
      },
      "execution_count": null,
      "outputs": []
    },
    {
      "cell_type": "code",
      "source": [
        "# Five days ago.\n",
        "advance(-5)"
      ],
      "metadata": {
        "id": "Y7nv8dnrneDn"
      },
      "execution_count": null,
      "outputs": []
    },
    {
      "cell_type": "code",
      "source": [
        "# One week ago.\n",
        "advance(-7)"
      ],
      "metadata": {
        "id": "ZhooKLsrneGH"
      },
      "execution_count": null,
      "outputs": []
    },
    {
      "cell_type": "code",
      "source": [
        "# The target variable, two weeks out.\n",
        "advance(14)"
      ],
      "metadata": {
        "id": "DswWFNtKneIw"
      },
      "execution_count": null,
      "outputs": []
    },
    {
      "cell_type": "code",
      "source": [
        "model1.tail(20)"
      ],
      "metadata": {
        "colab": {
          "base_uri": "https://localhost:8080/",
          "height": 669
        },
        "id": "pslrp7AoneNB",
        "outputId": "d0ab01d3-0975-4c90-8b86-92d3af268c3d"
      },
      "execution_count": null,
      "outputs": [
        {
          "output_type": "execute_result",
          "data": {
            "text/plain": [
              "            time  watershed        pr     tasmax     tasmin  discharge  \\\n",
              "24452 2016-12-12        205  0.000000 -18.164406 -27.025156       3.82   \n",
              "24453 2016-12-13        205  0.000000 -16.172234 -24.161900       3.71   \n",
              "24454 2016-12-14        205  0.000000 -20.890396 -26.313570       3.60   \n",
              "24455 2016-12-15        205  0.000000 -15.734134 -26.880585       3.50   \n",
              "24456 2016-12-16        205  0.000000 -22.829750 -28.378078       3.39   \n",
              "24457 2016-12-17        205  0.000000 -24.311274 -32.428288       3.29   \n",
              "24458 2016-12-18        205  1.188727 -11.516911 -32.155636       3.20   \n",
              "24459 2016-12-19        205  1.088935  -1.979227 -13.009812       3.10   \n",
              "24460 2016-12-20        205  0.073486  -0.972338 -14.880480       3.01   \n",
              "24461 2016-12-21        205  0.000000  -0.989353 -17.502089       2.92   \n",
              "24462 2016-12-22        205  0.000000  -1.417850  -9.735595       2.84   \n",
              "24463 2016-12-23        205  0.000000  -4.549896 -19.985596       2.75   \n",
              "24464 2016-12-24        205  1.613987 -18.555950 -24.449686       2.62   \n",
              "24465 2016-12-25        205  3.015240 -15.017432 -20.837370       2.42   \n",
              "24466 2016-12-26        205  0.119520 -12.895824 -20.086430       2.48   \n",
              "24467 2016-12-27        205  1.170564 -10.097390 -22.942066       2.64   \n",
              "24468 2016-12-28        205  0.929019  -3.541023 -14.312735       2.65   \n",
              "24469 2016-12-29        205  0.000000  -6.199687 -16.686535       2.61   \n",
              "24470 2016-12-30        205  0.926618 -10.480793 -16.324427       2.52   \n",
              "24471 2016-12-31        205  0.000000  -7.759708 -13.571190       2.57   \n",
              "\n",
              "       discharge_-1  discharge_-3  discharge_-5  discharge_-7  discharge_14  \n",
              "24452          3.94          4.18          4.40          4.76          2.48  \n",
              "24453          3.82          4.06          4.31          4.31          2.64  \n",
              "24454          3.71          3.94          4.18          4.40          2.65  \n",
              "24455          3.60          3.82          4.06          4.31          2.61  \n",
              "24456          3.50          3.71          3.94          4.18          2.52  \n",
              "24457          3.39          3.60          3.82          4.06          2.57  \n",
              "24458          3.29          3.50          3.71          3.94          3.20  \n",
              "24459          3.20          3.39          3.60          3.82          3.10  \n",
              "24460          3.10          3.29          3.50          3.71          3.01  \n",
              "24461          3.01          3.20          3.39          3.60          2.92  \n",
              "24462          2.92          3.10          3.29          3.50          2.84  \n",
              "24463          2.84          3.01          3.20          3.39          2.75  \n",
              "24464          2.75          2.92          3.10          3.29          2.62  \n",
              "24465          2.62          2.84          3.01          3.20          2.42  \n",
              "24466          2.42          2.75          2.92          3.10          2.48  \n",
              "24467          2.48          2.62          2.84          3.01          2.64  \n",
              "24468          2.64          2.42          2.75          2.92          2.65  \n",
              "24469          2.65          2.48          2.62          2.84          2.61  \n",
              "24470          2.61          2.64          2.42          2.75          2.52  \n",
              "24471          2.52          2.65          2.48          2.62          2.57  "
            ],
            "text/html": [
              "\n",
              "  <div id=\"df-93bb29a4-e8a3-4823-bc92-341c201a4226\">\n",
              "    <div class=\"colab-df-container\">\n",
              "      <div>\n",
              "<style scoped>\n",
              "    .dataframe tbody tr th:only-of-type {\n",
              "        vertical-align: middle;\n",
              "    }\n",
              "\n",
              "    .dataframe tbody tr th {\n",
              "        vertical-align: top;\n",
              "    }\n",
              "\n",
              "    .dataframe thead th {\n",
              "        text-align: right;\n",
              "    }\n",
              "</style>\n",
              "<table border=\"1\" class=\"dataframe\">\n",
              "  <thead>\n",
              "    <tr style=\"text-align: right;\">\n",
              "      <th></th>\n",
              "      <th>time</th>\n",
              "      <th>watershed</th>\n",
              "      <th>pr</th>\n",
              "      <th>tasmax</th>\n",
              "      <th>tasmin</th>\n",
              "      <th>discharge</th>\n",
              "      <th>discharge_-1</th>\n",
              "      <th>discharge_-3</th>\n",
              "      <th>discharge_-5</th>\n",
              "      <th>discharge_-7</th>\n",
              "      <th>discharge_14</th>\n",
              "    </tr>\n",
              "  </thead>\n",
              "  <tbody>\n",
              "    <tr>\n",
              "      <th>24452</th>\n",
              "      <td>2016-12-12</td>\n",
              "      <td>205</td>\n",
              "      <td>0.000000</td>\n",
              "      <td>-18.164406</td>\n",
              "      <td>-27.025156</td>\n",
              "      <td>3.82</td>\n",
              "      <td>3.94</td>\n",
              "      <td>4.18</td>\n",
              "      <td>4.40</td>\n",
              "      <td>4.76</td>\n",
              "      <td>2.48</td>\n",
              "    </tr>\n",
              "    <tr>\n",
              "      <th>24453</th>\n",
              "      <td>2016-12-13</td>\n",
              "      <td>205</td>\n",
              "      <td>0.000000</td>\n",
              "      <td>-16.172234</td>\n",
              "      <td>-24.161900</td>\n",
              "      <td>3.71</td>\n",
              "      <td>3.82</td>\n",
              "      <td>4.06</td>\n",
              "      <td>4.31</td>\n",
              "      <td>4.31</td>\n",
              "      <td>2.64</td>\n",
              "    </tr>\n",
              "    <tr>\n",
              "      <th>24454</th>\n",
              "      <td>2016-12-14</td>\n",
              "      <td>205</td>\n",
              "      <td>0.000000</td>\n",
              "      <td>-20.890396</td>\n",
              "      <td>-26.313570</td>\n",
              "      <td>3.60</td>\n",
              "      <td>3.71</td>\n",
              "      <td>3.94</td>\n",
              "      <td>4.18</td>\n",
              "      <td>4.40</td>\n",
              "      <td>2.65</td>\n",
              "    </tr>\n",
              "    <tr>\n",
              "      <th>24455</th>\n",
              "      <td>2016-12-15</td>\n",
              "      <td>205</td>\n",
              "      <td>0.000000</td>\n",
              "      <td>-15.734134</td>\n",
              "      <td>-26.880585</td>\n",
              "      <td>3.50</td>\n",
              "      <td>3.60</td>\n",
              "      <td>3.82</td>\n",
              "      <td>4.06</td>\n",
              "      <td>4.31</td>\n",
              "      <td>2.61</td>\n",
              "    </tr>\n",
              "    <tr>\n",
              "      <th>24456</th>\n",
              "      <td>2016-12-16</td>\n",
              "      <td>205</td>\n",
              "      <td>0.000000</td>\n",
              "      <td>-22.829750</td>\n",
              "      <td>-28.378078</td>\n",
              "      <td>3.39</td>\n",
              "      <td>3.50</td>\n",
              "      <td>3.71</td>\n",
              "      <td>3.94</td>\n",
              "      <td>4.18</td>\n",
              "      <td>2.52</td>\n",
              "    </tr>\n",
              "    <tr>\n",
              "      <th>24457</th>\n",
              "      <td>2016-12-17</td>\n",
              "      <td>205</td>\n",
              "      <td>0.000000</td>\n",
              "      <td>-24.311274</td>\n",
              "      <td>-32.428288</td>\n",
              "      <td>3.29</td>\n",
              "      <td>3.39</td>\n",
              "      <td>3.60</td>\n",
              "      <td>3.82</td>\n",
              "      <td>4.06</td>\n",
              "      <td>2.57</td>\n",
              "    </tr>\n",
              "    <tr>\n",
              "      <th>24458</th>\n",
              "      <td>2016-12-18</td>\n",
              "      <td>205</td>\n",
              "      <td>1.188727</td>\n",
              "      <td>-11.516911</td>\n",
              "      <td>-32.155636</td>\n",
              "      <td>3.20</td>\n",
              "      <td>3.29</td>\n",
              "      <td>3.50</td>\n",
              "      <td>3.71</td>\n",
              "      <td>3.94</td>\n",
              "      <td>3.20</td>\n",
              "    </tr>\n",
              "    <tr>\n",
              "      <th>24459</th>\n",
              "      <td>2016-12-19</td>\n",
              "      <td>205</td>\n",
              "      <td>1.088935</td>\n",
              "      <td>-1.979227</td>\n",
              "      <td>-13.009812</td>\n",
              "      <td>3.10</td>\n",
              "      <td>3.20</td>\n",
              "      <td>3.39</td>\n",
              "      <td>3.60</td>\n",
              "      <td>3.82</td>\n",
              "      <td>3.10</td>\n",
              "    </tr>\n",
              "    <tr>\n",
              "      <th>24460</th>\n",
              "      <td>2016-12-20</td>\n",
              "      <td>205</td>\n",
              "      <td>0.073486</td>\n",
              "      <td>-0.972338</td>\n",
              "      <td>-14.880480</td>\n",
              "      <td>3.01</td>\n",
              "      <td>3.10</td>\n",
              "      <td>3.29</td>\n",
              "      <td>3.50</td>\n",
              "      <td>3.71</td>\n",
              "      <td>3.01</td>\n",
              "    </tr>\n",
              "    <tr>\n",
              "      <th>24461</th>\n",
              "      <td>2016-12-21</td>\n",
              "      <td>205</td>\n",
              "      <td>0.000000</td>\n",
              "      <td>-0.989353</td>\n",
              "      <td>-17.502089</td>\n",
              "      <td>2.92</td>\n",
              "      <td>3.01</td>\n",
              "      <td>3.20</td>\n",
              "      <td>3.39</td>\n",
              "      <td>3.60</td>\n",
              "      <td>2.92</td>\n",
              "    </tr>\n",
              "    <tr>\n",
              "      <th>24462</th>\n",
              "      <td>2016-12-22</td>\n",
              "      <td>205</td>\n",
              "      <td>0.000000</td>\n",
              "      <td>-1.417850</td>\n",
              "      <td>-9.735595</td>\n",
              "      <td>2.84</td>\n",
              "      <td>2.92</td>\n",
              "      <td>3.10</td>\n",
              "      <td>3.29</td>\n",
              "      <td>3.50</td>\n",
              "      <td>2.84</td>\n",
              "    </tr>\n",
              "    <tr>\n",
              "      <th>24463</th>\n",
              "      <td>2016-12-23</td>\n",
              "      <td>205</td>\n",
              "      <td>0.000000</td>\n",
              "      <td>-4.549896</td>\n",
              "      <td>-19.985596</td>\n",
              "      <td>2.75</td>\n",
              "      <td>2.84</td>\n",
              "      <td>3.01</td>\n",
              "      <td>3.20</td>\n",
              "      <td>3.39</td>\n",
              "      <td>2.75</td>\n",
              "    </tr>\n",
              "    <tr>\n",
              "      <th>24464</th>\n",
              "      <td>2016-12-24</td>\n",
              "      <td>205</td>\n",
              "      <td>1.613987</td>\n",
              "      <td>-18.555950</td>\n",
              "      <td>-24.449686</td>\n",
              "      <td>2.62</td>\n",
              "      <td>2.75</td>\n",
              "      <td>2.92</td>\n",
              "      <td>3.10</td>\n",
              "      <td>3.29</td>\n",
              "      <td>2.62</td>\n",
              "    </tr>\n",
              "    <tr>\n",
              "      <th>24465</th>\n",
              "      <td>2016-12-25</td>\n",
              "      <td>205</td>\n",
              "      <td>3.015240</td>\n",
              "      <td>-15.017432</td>\n",
              "      <td>-20.837370</td>\n",
              "      <td>2.42</td>\n",
              "      <td>2.62</td>\n",
              "      <td>2.84</td>\n",
              "      <td>3.01</td>\n",
              "      <td>3.20</td>\n",
              "      <td>2.42</td>\n",
              "    </tr>\n",
              "    <tr>\n",
              "      <th>24466</th>\n",
              "      <td>2016-12-26</td>\n",
              "      <td>205</td>\n",
              "      <td>0.119520</td>\n",
              "      <td>-12.895824</td>\n",
              "      <td>-20.086430</td>\n",
              "      <td>2.48</td>\n",
              "      <td>2.42</td>\n",
              "      <td>2.75</td>\n",
              "      <td>2.92</td>\n",
              "      <td>3.10</td>\n",
              "      <td>2.48</td>\n",
              "    </tr>\n",
              "    <tr>\n",
              "      <th>24467</th>\n",
              "      <td>2016-12-27</td>\n",
              "      <td>205</td>\n",
              "      <td>1.170564</td>\n",
              "      <td>-10.097390</td>\n",
              "      <td>-22.942066</td>\n",
              "      <td>2.64</td>\n",
              "      <td>2.48</td>\n",
              "      <td>2.62</td>\n",
              "      <td>2.84</td>\n",
              "      <td>3.01</td>\n",
              "      <td>2.64</td>\n",
              "    </tr>\n",
              "    <tr>\n",
              "      <th>24468</th>\n",
              "      <td>2016-12-28</td>\n",
              "      <td>205</td>\n",
              "      <td>0.929019</td>\n",
              "      <td>-3.541023</td>\n",
              "      <td>-14.312735</td>\n",
              "      <td>2.65</td>\n",
              "      <td>2.64</td>\n",
              "      <td>2.42</td>\n",
              "      <td>2.75</td>\n",
              "      <td>2.92</td>\n",
              "      <td>2.65</td>\n",
              "    </tr>\n",
              "    <tr>\n",
              "      <th>24469</th>\n",
              "      <td>2016-12-29</td>\n",
              "      <td>205</td>\n",
              "      <td>0.000000</td>\n",
              "      <td>-6.199687</td>\n",
              "      <td>-16.686535</td>\n",
              "      <td>2.61</td>\n",
              "      <td>2.65</td>\n",
              "      <td>2.48</td>\n",
              "      <td>2.62</td>\n",
              "      <td>2.84</td>\n",
              "      <td>2.61</td>\n",
              "    </tr>\n",
              "    <tr>\n",
              "      <th>24470</th>\n",
              "      <td>2016-12-30</td>\n",
              "      <td>205</td>\n",
              "      <td>0.926618</td>\n",
              "      <td>-10.480793</td>\n",
              "      <td>-16.324427</td>\n",
              "      <td>2.52</td>\n",
              "      <td>2.61</td>\n",
              "      <td>2.64</td>\n",
              "      <td>2.42</td>\n",
              "      <td>2.75</td>\n",
              "      <td>2.52</td>\n",
              "    </tr>\n",
              "    <tr>\n",
              "      <th>24471</th>\n",
              "      <td>2016-12-31</td>\n",
              "      <td>205</td>\n",
              "      <td>0.000000</td>\n",
              "      <td>-7.759708</td>\n",
              "      <td>-13.571190</td>\n",
              "      <td>2.57</td>\n",
              "      <td>2.52</td>\n",
              "      <td>2.65</td>\n",
              "      <td>2.48</td>\n",
              "      <td>2.62</td>\n",
              "      <td>2.57</td>\n",
              "    </tr>\n",
              "  </tbody>\n",
              "</table>\n",
              "</div>\n",
              "      <button class=\"colab-df-convert\" onclick=\"convertToInteractive('df-93bb29a4-e8a3-4823-bc92-341c201a4226')\"\n",
              "              title=\"Convert this dataframe to an interactive table.\"\n",
              "              style=\"display:none;\">\n",
              "        \n",
              "  <svg xmlns=\"http://www.w3.org/2000/svg\" height=\"24px\"viewBox=\"0 0 24 24\"\n",
              "       width=\"24px\">\n",
              "    <path d=\"M0 0h24v24H0V0z\" fill=\"none\"/>\n",
              "    <path d=\"M18.56 5.44l.94 2.06.94-2.06 2.06-.94-2.06-.94-.94-2.06-.94 2.06-2.06.94zm-11 1L8.5 8.5l.94-2.06 2.06-.94-2.06-.94L8.5 2.5l-.94 2.06-2.06.94zm10 10l.94 2.06.94-2.06 2.06-.94-2.06-.94-.94-2.06-.94 2.06-2.06.94z\"/><path d=\"M17.41 7.96l-1.37-1.37c-.4-.4-.92-.59-1.43-.59-.52 0-1.04.2-1.43.59L10.3 9.45l-7.72 7.72c-.78.78-.78 2.05 0 2.83L4 21.41c.39.39.9.59 1.41.59.51 0 1.02-.2 1.41-.59l7.78-7.78 2.81-2.81c.8-.78.8-2.07 0-2.86zM5.41 20L4 18.59l7.72-7.72 1.47 1.35L5.41 20z\"/>\n",
              "  </svg>\n",
              "      </button>\n",
              "      \n",
              "  <style>\n",
              "    .colab-df-container {\n",
              "      display:flex;\n",
              "      flex-wrap:wrap;\n",
              "      gap: 12px;\n",
              "    }\n",
              "\n",
              "    .colab-df-convert {\n",
              "      background-color: #E8F0FE;\n",
              "      border: none;\n",
              "      border-radius: 50%;\n",
              "      cursor: pointer;\n",
              "      display: none;\n",
              "      fill: #1967D2;\n",
              "      height: 32px;\n",
              "      padding: 0 0 0 0;\n",
              "      width: 32px;\n",
              "    }\n",
              "\n",
              "    .colab-df-convert:hover {\n",
              "      background-color: #E2EBFA;\n",
              "      box-shadow: 0px 1px 2px rgba(60, 64, 67, 0.3), 0px 1px 3px 1px rgba(60, 64, 67, 0.15);\n",
              "      fill: #174EA6;\n",
              "    }\n",
              "\n",
              "    [theme=dark] .colab-df-convert {\n",
              "      background-color: #3B4455;\n",
              "      fill: #D2E3FC;\n",
              "    }\n",
              "\n",
              "    [theme=dark] .colab-df-convert:hover {\n",
              "      background-color: #434B5C;\n",
              "      box-shadow: 0px 1px 3px 1px rgba(0, 0, 0, 0.15);\n",
              "      filter: drop-shadow(0px 1px 2px rgba(0, 0, 0, 0.3));\n",
              "      fill: #FFFFFF;\n",
              "    }\n",
              "  </style>\n",
              "\n",
              "      <script>\n",
              "        const buttonEl =\n",
              "          document.querySelector('#df-93bb29a4-e8a3-4823-bc92-341c201a4226 button.colab-df-convert');\n",
              "        buttonEl.style.display =\n",
              "          google.colab.kernel.accessAllowed ? 'block' : 'none';\n",
              "\n",
              "        async function convertToInteractive(key) {\n",
              "          const element = document.querySelector('#df-93bb29a4-e8a3-4823-bc92-341c201a4226');\n",
              "          const dataTable =\n",
              "            await google.colab.kernel.invokeFunction('convertToInteractive',\n",
              "                                                     [key], {});\n",
              "          if (!dataTable) return;\n",
              "\n",
              "          const docLinkHtml = 'Like what you see? Visit the ' +\n",
              "            '<a target=\"_blank\" href=https://colab.research.google.com/notebooks/data_table.ipynb>data table notebook</a>'\n",
              "            + ' to learn more about interactive tables.';\n",
              "          element.innerHTML = '';\n",
              "          dataTable['output_type'] = 'display_data';\n",
              "          await google.colab.output.renderOutput(dataTable, element);\n",
              "          const docLink = document.createElement('div');\n",
              "          docLink.innerHTML = docLinkHtml;\n",
              "          element.appendChild(docLink);\n",
              "        }\n",
              "      </script>\n",
              "    </div>\n",
              "  </div>\n",
              "  "
            ]
          },
          "metadata": {},
          "execution_count": 21
        }
      ]
    },
    {
      "cell_type": "code",
      "source": [
        "# We will only be using discharge values. --> Pr values, at the minimum, also need to be considered.\n",
        "model1.drop(['watershed', 'pr', 'tasmax', 'tasmin'], axis=1, inplace=True)\n",
        "\n",
        "model1.head(3)"
      ],
      "metadata": {
        "colab": {
          "base_uri": "https://localhost:8080/",
          "height": 142
        },
        "id": "qFizxOVCnqne",
        "outputId": "39eef189-cf92-45bc-e138-9755a935cdf6"
      },
      "execution_count": null,
      "outputs": [
        {
          "output_type": "execute_result",
          "data": {
            "text/plain": [
              "        time  discharge  discharge_-1  discharge_-3  discharge_-5  \\\n",
              "0 1950-01-01       6.85          6.85          6.85          6.85   \n",
              "1 1950-01-02       6.85          6.85          6.85          6.85   \n",
              "2 1950-01-03       6.85          6.85          6.85          6.85   \n",
              "\n",
              "   discharge_-7  discharge_14  \n",
              "0          6.85          6.85  \n",
              "1          6.85          6.85  \n",
              "2          6.85          6.85  "
            ],
            "text/html": [
              "\n",
              "  <div id=\"df-eaa1c924-61fa-4081-8c4a-3ae94f7ad5b4\">\n",
              "    <div class=\"colab-df-container\">\n",
              "      <div>\n",
              "<style scoped>\n",
              "    .dataframe tbody tr th:only-of-type {\n",
              "        vertical-align: middle;\n",
              "    }\n",
              "\n",
              "    .dataframe tbody tr th {\n",
              "        vertical-align: top;\n",
              "    }\n",
              "\n",
              "    .dataframe thead th {\n",
              "        text-align: right;\n",
              "    }\n",
              "</style>\n",
              "<table border=\"1\" class=\"dataframe\">\n",
              "  <thead>\n",
              "    <tr style=\"text-align: right;\">\n",
              "      <th></th>\n",
              "      <th>time</th>\n",
              "      <th>discharge</th>\n",
              "      <th>discharge_-1</th>\n",
              "      <th>discharge_-3</th>\n",
              "      <th>discharge_-5</th>\n",
              "      <th>discharge_-7</th>\n",
              "      <th>discharge_14</th>\n",
              "    </tr>\n",
              "  </thead>\n",
              "  <tbody>\n",
              "    <tr>\n",
              "      <th>0</th>\n",
              "      <td>1950-01-01</td>\n",
              "      <td>6.85</td>\n",
              "      <td>6.85</td>\n",
              "      <td>6.85</td>\n",
              "      <td>6.85</td>\n",
              "      <td>6.85</td>\n",
              "      <td>6.85</td>\n",
              "    </tr>\n",
              "    <tr>\n",
              "      <th>1</th>\n",
              "      <td>1950-01-02</td>\n",
              "      <td>6.85</td>\n",
              "      <td>6.85</td>\n",
              "      <td>6.85</td>\n",
              "      <td>6.85</td>\n",
              "      <td>6.85</td>\n",
              "      <td>6.85</td>\n",
              "    </tr>\n",
              "    <tr>\n",
              "      <th>2</th>\n",
              "      <td>1950-01-03</td>\n",
              "      <td>6.85</td>\n",
              "      <td>6.85</td>\n",
              "      <td>6.85</td>\n",
              "      <td>6.85</td>\n",
              "      <td>6.85</td>\n",
              "      <td>6.85</td>\n",
              "    </tr>\n",
              "  </tbody>\n",
              "</table>\n",
              "</div>\n",
              "      <button class=\"colab-df-convert\" onclick=\"convertToInteractive('df-eaa1c924-61fa-4081-8c4a-3ae94f7ad5b4')\"\n",
              "              title=\"Convert this dataframe to an interactive table.\"\n",
              "              style=\"display:none;\">\n",
              "        \n",
              "  <svg xmlns=\"http://www.w3.org/2000/svg\" height=\"24px\"viewBox=\"0 0 24 24\"\n",
              "       width=\"24px\">\n",
              "    <path d=\"M0 0h24v24H0V0z\" fill=\"none\"/>\n",
              "    <path d=\"M18.56 5.44l.94 2.06.94-2.06 2.06-.94-2.06-.94-.94-2.06-.94 2.06-2.06.94zm-11 1L8.5 8.5l.94-2.06 2.06-.94-2.06-.94L8.5 2.5l-.94 2.06-2.06.94zm10 10l.94 2.06.94-2.06 2.06-.94-2.06-.94-.94-2.06-.94 2.06-2.06.94z\"/><path d=\"M17.41 7.96l-1.37-1.37c-.4-.4-.92-.59-1.43-.59-.52 0-1.04.2-1.43.59L10.3 9.45l-7.72 7.72c-.78.78-.78 2.05 0 2.83L4 21.41c.39.39.9.59 1.41.59.51 0 1.02-.2 1.41-.59l7.78-7.78 2.81-2.81c.8-.78.8-2.07 0-2.86zM5.41 20L4 18.59l7.72-7.72 1.47 1.35L5.41 20z\"/>\n",
              "  </svg>\n",
              "      </button>\n",
              "      \n",
              "  <style>\n",
              "    .colab-df-container {\n",
              "      display:flex;\n",
              "      flex-wrap:wrap;\n",
              "      gap: 12px;\n",
              "    }\n",
              "\n",
              "    .colab-df-convert {\n",
              "      background-color: #E8F0FE;\n",
              "      border: none;\n",
              "      border-radius: 50%;\n",
              "      cursor: pointer;\n",
              "      display: none;\n",
              "      fill: #1967D2;\n",
              "      height: 32px;\n",
              "      padding: 0 0 0 0;\n",
              "      width: 32px;\n",
              "    }\n",
              "\n",
              "    .colab-df-convert:hover {\n",
              "      background-color: #E2EBFA;\n",
              "      box-shadow: 0px 1px 2px rgba(60, 64, 67, 0.3), 0px 1px 3px 1px rgba(60, 64, 67, 0.15);\n",
              "      fill: #174EA6;\n",
              "    }\n",
              "\n",
              "    [theme=dark] .colab-df-convert {\n",
              "      background-color: #3B4455;\n",
              "      fill: #D2E3FC;\n",
              "    }\n",
              "\n",
              "    [theme=dark] .colab-df-convert:hover {\n",
              "      background-color: #434B5C;\n",
              "      box-shadow: 0px 1px 3px 1px rgba(0, 0, 0, 0.15);\n",
              "      filter: drop-shadow(0px 1px 2px rgba(0, 0, 0, 0.3));\n",
              "      fill: #FFFFFF;\n",
              "    }\n",
              "  </style>\n",
              "\n",
              "      <script>\n",
              "        const buttonEl =\n",
              "          document.querySelector('#df-eaa1c924-61fa-4081-8c4a-3ae94f7ad5b4 button.colab-df-convert');\n",
              "        buttonEl.style.display =\n",
              "          google.colab.kernel.accessAllowed ? 'block' : 'none';\n",
              "\n",
              "        async function convertToInteractive(key) {\n",
              "          const element = document.querySelector('#df-eaa1c924-61fa-4081-8c4a-3ae94f7ad5b4');\n",
              "          const dataTable =\n",
              "            await google.colab.kernel.invokeFunction('convertToInteractive',\n",
              "                                                     [key], {});\n",
              "          if (!dataTable) return;\n",
              "\n",
              "          const docLinkHtml = 'Like what you see? Visit the ' +\n",
              "            '<a target=\"_blank\" href=https://colab.research.google.com/notebooks/data_table.ipynb>data table notebook</a>'\n",
              "            + ' to learn more about interactive tables.';\n",
              "          element.innerHTML = '';\n",
              "          dataTable['output_type'] = 'display_data';\n",
              "          await google.colab.output.renderOutput(dataTable, element);\n",
              "          const docLink = document.createElement('div');\n",
              "          docLink.innerHTML = docLinkHtml;\n",
              "          element.appendChild(docLink);\n",
              "        }\n",
              "      </script>\n",
              "    </div>\n",
              "  </div>\n",
              "  "
            ]
          },
          "metadata": {},
          "execution_count": 22
        }
      ]
    },
    {
      "cell_type": "code",
      "source": [
        "# We will be focusing on the last twenty years of data.\n",
        "df = model1[(model1.time >= '1997-01-01')] \n",
        "\n",
        "df.head(3)"
      ],
      "metadata": {
        "colab": {
          "base_uri": "https://localhost:8080/",
          "height": 142
        },
        "id": "qPGfX_IGnqsA",
        "outputId": "c9236845-3a79-42b0-cd6f-a0c154c5ccba"
      },
      "execution_count": null,
      "outputs": [
        {
          "output_type": "execute_result",
          "data": {
            "text/plain": [
              "            time  discharge  discharge_-1  discharge_-3  discharge_-5  \\\n",
              "17167 1997-01-01       1.32          1.48          1.66          1.28   \n",
              "17168 1997-01-02       1.39          1.32          1.29          1.52   \n",
              "17169 1997-01-03       1.46          1.39          1.48          1.66   \n",
              "\n",
              "       discharge_-7  discharge_14  \n",
              "17167          1.44          1.32  \n",
              "17168          1.38          1.16  \n",
              "17169          1.28          1.12  "
            ],
            "text/html": [
              "\n",
              "  <div id=\"df-a67710f8-9f9a-44ae-a627-2b95e51c385b\">\n",
              "    <div class=\"colab-df-container\">\n",
              "      <div>\n",
              "<style scoped>\n",
              "    .dataframe tbody tr th:only-of-type {\n",
              "        vertical-align: middle;\n",
              "    }\n",
              "\n",
              "    .dataframe tbody tr th {\n",
              "        vertical-align: top;\n",
              "    }\n",
              "\n",
              "    .dataframe thead th {\n",
              "        text-align: right;\n",
              "    }\n",
              "</style>\n",
              "<table border=\"1\" class=\"dataframe\">\n",
              "  <thead>\n",
              "    <tr style=\"text-align: right;\">\n",
              "      <th></th>\n",
              "      <th>time</th>\n",
              "      <th>discharge</th>\n",
              "      <th>discharge_-1</th>\n",
              "      <th>discharge_-3</th>\n",
              "      <th>discharge_-5</th>\n",
              "      <th>discharge_-7</th>\n",
              "      <th>discharge_14</th>\n",
              "    </tr>\n",
              "  </thead>\n",
              "  <tbody>\n",
              "    <tr>\n",
              "      <th>17167</th>\n",
              "      <td>1997-01-01</td>\n",
              "      <td>1.32</td>\n",
              "      <td>1.48</td>\n",
              "      <td>1.66</td>\n",
              "      <td>1.28</td>\n",
              "      <td>1.44</td>\n",
              "      <td>1.32</td>\n",
              "    </tr>\n",
              "    <tr>\n",
              "      <th>17168</th>\n",
              "      <td>1997-01-02</td>\n",
              "      <td>1.39</td>\n",
              "      <td>1.32</td>\n",
              "      <td>1.29</td>\n",
              "      <td>1.52</td>\n",
              "      <td>1.38</td>\n",
              "      <td>1.16</td>\n",
              "    </tr>\n",
              "    <tr>\n",
              "      <th>17169</th>\n",
              "      <td>1997-01-03</td>\n",
              "      <td>1.46</td>\n",
              "      <td>1.39</td>\n",
              "      <td>1.48</td>\n",
              "      <td>1.66</td>\n",
              "      <td>1.28</td>\n",
              "      <td>1.12</td>\n",
              "    </tr>\n",
              "  </tbody>\n",
              "</table>\n",
              "</div>\n",
              "      <button class=\"colab-df-convert\" onclick=\"convertToInteractive('df-a67710f8-9f9a-44ae-a627-2b95e51c385b')\"\n",
              "              title=\"Convert this dataframe to an interactive table.\"\n",
              "              style=\"display:none;\">\n",
              "        \n",
              "  <svg xmlns=\"http://www.w3.org/2000/svg\" height=\"24px\"viewBox=\"0 0 24 24\"\n",
              "       width=\"24px\">\n",
              "    <path d=\"M0 0h24v24H0V0z\" fill=\"none\"/>\n",
              "    <path d=\"M18.56 5.44l.94 2.06.94-2.06 2.06-.94-2.06-.94-.94-2.06-.94 2.06-2.06.94zm-11 1L8.5 8.5l.94-2.06 2.06-.94-2.06-.94L8.5 2.5l-.94 2.06-2.06.94zm10 10l.94 2.06.94-2.06 2.06-.94-2.06-.94-.94-2.06-.94 2.06-2.06.94z\"/><path d=\"M17.41 7.96l-1.37-1.37c-.4-.4-.92-.59-1.43-.59-.52 0-1.04.2-1.43.59L10.3 9.45l-7.72 7.72c-.78.78-.78 2.05 0 2.83L4 21.41c.39.39.9.59 1.41.59.51 0 1.02-.2 1.41-.59l7.78-7.78 2.81-2.81c.8-.78.8-2.07 0-2.86zM5.41 20L4 18.59l7.72-7.72 1.47 1.35L5.41 20z\"/>\n",
              "  </svg>\n",
              "      </button>\n",
              "      \n",
              "  <style>\n",
              "    .colab-df-container {\n",
              "      display:flex;\n",
              "      flex-wrap:wrap;\n",
              "      gap: 12px;\n",
              "    }\n",
              "\n",
              "    .colab-df-convert {\n",
              "      background-color: #E8F0FE;\n",
              "      border: none;\n",
              "      border-radius: 50%;\n",
              "      cursor: pointer;\n",
              "      display: none;\n",
              "      fill: #1967D2;\n",
              "      height: 32px;\n",
              "      padding: 0 0 0 0;\n",
              "      width: 32px;\n",
              "    }\n",
              "\n",
              "    .colab-df-convert:hover {\n",
              "      background-color: #E2EBFA;\n",
              "      box-shadow: 0px 1px 2px rgba(60, 64, 67, 0.3), 0px 1px 3px 1px rgba(60, 64, 67, 0.15);\n",
              "      fill: #174EA6;\n",
              "    }\n",
              "\n",
              "    [theme=dark] .colab-df-convert {\n",
              "      background-color: #3B4455;\n",
              "      fill: #D2E3FC;\n",
              "    }\n",
              "\n",
              "    [theme=dark] .colab-df-convert:hover {\n",
              "      background-color: #434B5C;\n",
              "      box-shadow: 0px 1px 3px 1px rgba(0, 0, 0, 0.15);\n",
              "      filter: drop-shadow(0px 1px 2px rgba(0, 0, 0, 0.3));\n",
              "      fill: #FFFFFF;\n",
              "    }\n",
              "  </style>\n",
              "\n",
              "      <script>\n",
              "        const buttonEl =\n",
              "          document.querySelector('#df-a67710f8-9f9a-44ae-a627-2b95e51c385b button.colab-df-convert');\n",
              "        buttonEl.style.display =\n",
              "          google.colab.kernel.accessAllowed ? 'block' : 'none';\n",
              "\n",
              "        async function convertToInteractive(key) {\n",
              "          const element = document.querySelector('#df-a67710f8-9f9a-44ae-a627-2b95e51c385b');\n",
              "          const dataTable =\n",
              "            await google.colab.kernel.invokeFunction('convertToInteractive',\n",
              "                                                     [key], {});\n",
              "          if (!dataTable) return;\n",
              "\n",
              "          const docLinkHtml = 'Like what you see? Visit the ' +\n",
              "            '<a target=\"_blank\" href=https://colab.research.google.com/notebooks/data_table.ipynb>data table notebook</a>'\n",
              "            + ' to learn more about interactive tables.';\n",
              "          element.innerHTML = '';\n",
              "          dataTable['output_type'] = 'display_data';\n",
              "          await google.colab.output.renderOutput(dataTable, element);\n",
              "          const docLink = document.createElement('div');\n",
              "          docLink.innerHTML = docLinkHtml;\n",
              "          element.appendChild(docLink);\n",
              "        }\n",
              "      </script>\n",
              "    </div>\n",
              "  </div>\n",
              "  "
            ]
          },
          "metadata": {},
          "execution_count": 23
        }
      ]
    },
    {
      "cell_type": "code",
      "source": [
        "# The test data will be five years of data (2012 - 2017). \n",
        "\n",
        "df_train = df[(df.time < '2012-01-01')]\n",
        "df_test = df[(df.time >= '2012-01-01')]\n",
        "print(\"Test set fraction:\", len(df_test) / len(df))"
      ],
      "metadata": {
        "colab": {
          "base_uri": "https://localhost:8080/"
        },
        "id": "QzsrMOZ7nqwV",
        "outputId": "bd7b3bd2-77c7-4edb-84fc-b8cc32726863"
      },
      "execution_count": null,
      "outputs": [
        {
          "output_type": "stream",
          "name": "stdout",
          "text": [
            "Test set fraction: 0.2501026694045175\n"
          ]
        }
      ]
    },
    {
      "cell_type": "code",
      "source": [
        "# The 'time' column won't be needed for the RFR model. \n",
        "df_train.drop(['time'], axis=1, inplace=True)\n",
        "df_test.drop(['time'], axis=1, inplace=True)"
      ],
      "metadata": {
        "colab": {
          "base_uri": "https://localhost:8080/"
        },
        "id": "nyO08-w5nq0b",
        "outputId": "dca0d984-7801-4154-9fd1-2b6fba79f6e2"
      },
      "execution_count": null,
      "outputs": [
        {
          "output_type": "stream",
          "name": "stderr",
          "text": [
            "/usr/local/lib/python3.7/dist-packages/pandas/core/frame.py:4913: SettingWithCopyWarning: \n",
            "A value is trying to be set on a copy of a slice from a DataFrame\n",
            "\n",
            "See the caveats in the documentation: https://pandas.pydata.org/pandas-docs/stable/user_guide/indexing.html#returning-a-view-versus-a-copy\n",
            "  errors=errors,\n"
          ]
        }
      ]
    },
    {
      "cell_type": "code",
      "source": [
        "df.drop(['time'], axis=1, inplace=True)"
      ],
      "metadata": {
        "id": "I8id3S_pnq3T"
      },
      "execution_count": null,
      "outputs": []
    },
    {
      "cell_type": "markdown",
      "metadata": {
        "id": "Yf_S4r0HLY7i"
      },
      "source": [
        "### Phase 2) Building the machine learning model.\n",
        "\n",
        "##### We will be using a random forest regressor for the baseline. "
      ]
    },
    {
      "cell_type": "code",
      "execution_count": null,
      "metadata": {
        "id": "4VBto3EOD2gO"
      },
      "outputs": [],
      "source": [
        "# Import relevant libraries\n",
        "from sklearn.ensemble import RandomForestRegressor\n",
        "from sklearn.model_selection import train_test_split"
      ]
    },
    {
      "cell_type": "code",
      "source": [
        "predict_train = df_train.drop('discharge_14', axis=1)\n",
        "target_train = df_train['discharge_14']\n",
        "predict_test = df_test.drop('discharge_14', axis=1)\n",
        "target_test = df_test['discharge_14']\n",
        "#x_train, x_test, y_train, y_test = train_test_split(predict, target, test_size=0.2, random_state=42)"
      ],
      "metadata": {
        "id": "rrj0mGuahOUq"
      },
      "execution_count": null,
      "outputs": []
    },
    {
      "cell_type": "code",
      "execution_count": null,
      "metadata": {
        "id": "k4tfvhJwMr5T",
        "colab": {
          "base_uri": "https://localhost:8080/"
        },
        "outputId": "029e6714-f4ed-4dac-f619-6e27773d5f0d"
      },
      "outputs": [
        {
          "output_type": "execute_result",
          "data": {
            "text/plain": [
              "RandomForestRegressor(n_estimators=800)"
            ]
          },
          "metadata": {},
          "execution_count": 29
        }
      ],
      "source": [
        "clf = RandomForestRegressor(n_estimators=800) # --> 800 is chosen at random. A Grid Search CV should be done to find best hyperparameters. \n",
        "clf.fit(predict_train, target_train)\n"
      ]
    },
    {
      "cell_type": "code",
      "execution_count": null,
      "metadata": {
        "id": "-tILs3LxGtCN",
        "colab": {
          "base_uri": "https://localhost:8080/"
        },
        "outputId": "8a383a88-c598-4109-e7e2-f9ad6ada80ff"
      },
      "outputs": [
        {
          "output_type": "execute_result",
          "data": {
            "text/plain": [
              "0.272040202845357"
            ]
          },
          "metadata": {},
          "execution_count": 30
        }
      ],
      "source": [
        "# Testing the model's predictive capabilities. \n",
        "clf.score(predict_test,target_test)"
      ]
    },
    {
      "cell_type": "code",
      "execution_count": null,
      "metadata": {
        "id": "pP6nvu5YbUwl",
        "colab": {
          "base_uri": "https://localhost:8080/"
        },
        "outputId": "ad3bb195-6373-47b2-f22a-491f22122586"
      },
      "outputs": [
        {
          "output_type": "stream",
          "name": "stdout",
          "text": [
            "[0.941675  0.8235739 2.5969875 ... 2.3411875 2.687475  2.5546   ]\n"
          ]
        }
      ],
      "source": [
        "# Now to take that wonderfully accurate model and use it to predict the errors of our dataframe. \n",
        "aim = predict_test\n",
        "prediction = clf.predict(aim)\n",
        "print(prediction)"
      ]
    },
    {
      "cell_type": "code",
      "execution_count": null,
      "metadata": {
        "id": "CNEl29gjbU0k"
      },
      "outputs": [],
      "source": [
        "bullseye = target_test\n",
        "bullseye.reset_index(drop=True, inplace=True)"
      ]
    },
    {
      "cell_type": "code",
      "execution_count": null,
      "metadata": {
        "id": "digueXzPbU4o",
        "colab": {
          "base_uri": "https://localhost:8080/",
          "height": 603
        },
        "outputId": "c4fe6947-df1a-4a33-dbf1-41868459f368"
      },
      "outputs": [
        {
          "output_type": "display_data",
          "data": {
            "text/plain": [
              "<Figure size 2160x720 with 1 Axes>"
            ],
            "image/png": "[encoded data removed]"
          },
          "metadata": {
            "needs_background": "light"
          }
        }
      ],
      "source": [
        "# Plot the errors and water levels next to each oter to observe potential patterns. \n",
        "f = plt.figure()\n",
        "f.set_figwidth(30)\n",
        "f.set_figheight(10)\n",
        "plt.title(\"Watershed 205\")\n",
        "plt.xlabel(\"Number of days\") # A track varies in timing, but averages to every 3 days.\n",
        "plt.ylabel(\"Discharge (meters)\")\n",
        "y = prediction\n",
        "y2 = bullseye\n",
        "plt.plot(y, label=\"Predicted Discharge\")\n",
        "plt.plot(y2, label=\"Recorded Discharge\")\n",
        "plt.legend()\n",
        "plt.show()"
      ]
    },
    {
      "cell_type": "code",
      "execution_count": null,
      "metadata": {
        "id": "MMRCOGjRbU83",
        "colab": {
          "base_uri": "https://localhost:8080/"
        },
        "outputId": "c1cf60a5-f40c-46a0-ebea-9f3bb5f33f19"
      },
      "outputs": [
        {
          "output_type": "execute_result",
          "data": {
            "text/plain": [
              "0.4050537161232583"
            ]
          },
          "metadata": {},
          "execution_count": 35
        }
      ],
      "source": [
        "#SMAPE scoring for five years. \n",
        "\n",
        "n = len(prediction) # (1827)\n",
        "total = 0\n",
        "for i in range(len(prediction)):\n",
        "  top = (prediction[i] - bullseye[i])\n",
        "  bottom = ((prediction[i] + bullseye[i]) /2)\n",
        "  answer = top/bottom\n",
        "  if answer < 0:\n",
        "    answer = answer * -1\n",
        "  total += answer\n",
        "SMAPE = total/n\n",
        "SMAPE\n"
      ]
    },
    {
      "cell_type": "code",
      "source": [],
      "metadata": {
        "id": "z6hcrhOCrDML"
      },
      "execution_count": null,
      "outputs": []
    },
    {
      "cell_type": "code",
      "source": [],
      "metadata": {
        "id": "CPo2XHitr_4e"
      },
      "execution_count": null,
      "outputs": []
    },
    {
      "cell_type": "code",
      "source": [],
      "metadata": {
        "id": "3tQe0x0vr_-f"
      },
      "execution_count": null,
      "outputs": []
    },
    {
      "cell_type": "code",
      "source": [],
      "metadata": {
        "id": "QHje-MCTsABo"
      },
      "execution_count": null,
      "outputs": []
    },
    {
      "cell_type": "code",
      "source": [],
      "metadata": {
        "id": "8T7X_KO4sAEk"
      },
      "execution_count": null,
      "outputs": []
    },
    {
      "cell_type": "code",
      "source": [],
      "metadata": {
        "id": "1rzdLVlNsAHp"
      },
      "execution_count": null,
      "outputs": []
    }
  ],
  "metadata": {
    "colab": {
      "provenance": [],
      "include_colab_link": true
    },
    "kernelspec": {
      "display_name": "Python 3",
      "name": "python3"
    },
    "language_info": {
      "name": "python"
    }
  },
  "nbformat": 4,
  "nbformat_minor": 0
}